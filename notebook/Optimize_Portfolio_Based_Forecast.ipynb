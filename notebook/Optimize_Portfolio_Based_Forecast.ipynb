{
 "cells": [
  {
   "cell_type": "markdown",
   "id": "a87b4826",
   "metadata": {},
   "source": [
    "# ===============================\n",
    "1. Prepare Expected Returns\n",
    "TSLA:\n",
    "\n",
    "Take the annualized return from your Task 2 best model forecast.\n",
    "\n",
    "If your model outputs daily forecasted prices, first calculate daily % changes, then annualize:\n",
    "\n",
    "𝑅\n",
    "annual\n",
    "=(1+𝑅ˉdaily)252−1R \n",
    "\n",
    "annual=(1+Rˉdaily)252−1\n",
    "BND & SPY:\n",
    "\n",
    "Use historical mean daily returns (July 2015 – July 2025).\n",
    "\n",
    "Annualize them with the same formula above.\n",
    "\n",
    "2. Compute Covariance Matrix\n",
    "Use historical daily returns of TSLA, BND, SPY (same date range).\n",
    "\n",
    "Convert to NumPy array and use:\n",
    "\n",
    "cov_matrix = returns.cov() * 252  # annualized covariance\n",
    "This matrix will be used in the risk calculation.\n",
    "\n",
    "# ============================================"
   ]
  },
  {
   "cell_type": "markdown",
   "id": "35055091",
   "metadata": {},
   "source": [
    "# Implementation (NumPy + SciPy)"
   ]
  },
  {
   "cell_type": "code",
   "execution_count": 5,
   "id": "2b5374eb",
   "metadata": {},
   "outputs": [
    {
     "ename": "NameError",
     "evalue": "name 'lstm_fc' is not defined",
     "output_type": "error",
     "traceback": [
      "\u001b[31m---------------------------------------------------------------------------\u001b[39m",
      "\u001b[31mNameError\u001b[39m                                 Traceback (most recent call last)",
      "\u001b[36mCell\u001b[39m\u001b[36m \u001b[39m\u001b[32mIn[5]\u001b[39m\u001b[32m, line 6\u001b[39m\n\u001b[32m      3\u001b[39m \u001b[38;5;28;01mfrom\u001b[39;00m\u001b[38;5;250m \u001b[39m\u001b[34;01mscipy\u001b[39;00m\u001b[34;01m.\u001b[39;00m\u001b[34;01moptimize\u001b[39;00m\u001b[38;5;250m \u001b[39m\u001b[38;5;28;01mimport\u001b[39;00m minimize\n\u001b[32m      5\u001b[39m \u001b[38;5;66;03m# If you have LSTM forecast available:\u001b[39;00m\n\u001b[32m----> \u001b[39m\u001b[32m6\u001b[39m tsla_forecast_prices = \u001b[43mlstm_fc\u001b[49m  \u001b[38;5;66;03m# Make sure lstm_fc is defined\u001b[39;00m\n\u001b[32m      7\u001b[39m \u001b[38;5;66;03m# Replace with your actual forecasted prices\u001b[39;00m\n\u001b[32m      8\u001b[39m tsla_forecast_prices = arima_fc  \u001b[38;5;66;03m# or lstm_fc, whichever you want to use\u001b[39;00m\n",
      "\u001b[31mNameError\u001b[39m: name 'lstm_fc' is not defined"
     ]
    }
   ],
   "source": [
    "import numpy as np\n",
    "import pandas as pd\n",
    "from scipy.optimize import minimize\n",
    "\n",
    "# If you have LSTM forecast available:\n",
    "tsla_forecast_prices = lstm_fc  # Make sure lstm_fc is defined\n",
    "# Replace with your actual forecasted prices\n",
    "tsla_forecast_prices = arima_fc  # or lstm_fc, whichever you want to use\n",
    "\n",
    "# Calculate daily returns\n",
    "tsla_forecast_daily_returns = tsla_forecast_prices.pct_change().dropna()\n",
    "\n",
    "# Mean daily return\n",
    "tsla_mean_daily_return = tsla_forecast_daily_returns.mean()\n",
    "\n",
    "# Annualize\n",
    "tsla_forecast_return = (1 + tsla_mean_daily_return) ** 252 - 1\n",
    "\n",
    "# Expected annual returns\n",
    "expected_returns = np.array([tsla_forecast_return, bnd_hist_return, spy_hist_return])\n",
    "cov_matrix = returns.cov().values * 252  # annualized\n",
    "\n",
    "def portfolio_metrics(weights):\n",
    "    ret = np.dot(weights, expected_returns)\n",
    "    vol = np.sqrt(np.dot(weights.T, np.dot(cov_matrix, weights)))\n",
    "    return ret, vol\n",
    "\n",
    "# Max Sharpe Ratio\n",
    "def neg_sharpe(weights, risk_free=0.02):\n",
    "    ret, vol = portfolio_metrics(weights)\n",
    "    return -(ret - risk_free) / vol\n",
    "\n",
    "constraints = ({'type':'eq', 'fun': lambda w: np.sum(w) - 1})\n",
    "bounds = tuple((0, 1) for _ in range(3))\n",
    "\n",
    "max_sharpe_result = minimize(neg_sharpe, [1/3, 1/3, 1/3], bounds=bounds, constraints=constraints)\n",
    "max_sharpe_weights = max_sharpe_result.x\n",
    "\n",
    "# Min Volatility\n",
    "def portfolio_vol(weights):\n",
    "    return portfolio_metrics(weights)[1]\n",
    "\n",
    "min_vol_result = minimize(portfolio_vol, [1/3, 1/3, 1/3], bounds=bounds, constraints=constraints)\n",
    "min_vol_weights = min_vol_result.x\n"
   ]
  },
  {
   "cell_type": "markdown",
   "id": "e7734ac3",
   "metadata": {},
   "source": [
    "# Plot the Efficient Frontier"
   ]
  },
  {
   "cell_type": "code",
   "execution_count": 6,
   "id": "da680de8",
   "metadata": {},
   "outputs": [
    {
     "ename": "NameError",
     "evalue": "name 'portfolio_metrics' is not defined",
     "output_type": "error",
     "traceback": [
      "\u001b[31m---------------------------------------------------------------------------\u001b[39m",
      "\u001b[31mNameError\u001b[39m                                 Traceback (most recent call last)",
      "\u001b[36mCell\u001b[39m\u001b[36m \u001b[39m\u001b[32mIn[6]\u001b[39m\u001b[32m, line 5\u001b[39m\n\u001b[32m      3\u001b[39m \u001b[38;5;28;01mfor\u001b[39;00m _ \u001b[38;5;129;01min\u001b[39;00m \u001b[38;5;28mrange\u001b[39m(\u001b[32m5000\u001b[39m):\n\u001b[32m      4\u001b[39m     w = np.random.dirichlet(np.ones(\u001b[32m3\u001b[39m), size=\u001b[32m1\u001b[39m)[\u001b[32m0\u001b[39m]\n\u001b[32m----> \u001b[39m\u001b[32m5\u001b[39m     ret, vol = \u001b[43mportfolio_metrics\u001b[49m(w)\n\u001b[32m      6\u001b[39m     port_returns.append(ret)\n\u001b[32m      7\u001b[39m     port_vols.append(vol)\n",
      "\u001b[31mNameError\u001b[39m: name 'portfolio_metrics' is not defined"
     ]
    }
   ],
   "source": [
    "port_returns = []\n",
    "port_vols = []\n",
    "for _ in range(5000):\n",
    "    w = np.random.dirichlet(np.ones(3), size=1)[0]\n",
    "    ret, vol = portfolio_metrics(w)\n",
    "    port_returns.append(ret)\n",
    "    port_vols.append(vol)\n"
   ]
  },
  {
   "cell_type": "code",
   "execution_count": null,
   "id": "c3798fb2",
   "metadata": {},
   "outputs": [],
   "source": []
  }
 ],
 "metadata": {
  "kernelspec": {
   "display_name": "venv (3.13.2)",
   "language": "python",
   "name": "python3"
  },
  "language_info": {
   "codemirror_mode": {
    "name": "ipython",
    "version": 3
   },
   "file_extension": ".py",
   "mimetype": "text/x-python",
   "name": "python",
   "nbconvert_exporter": "python",
   "pygments_lexer": "ipython3",
   "version": "3.13.2"
  }
 },
 "nbformat": 4,
 "nbformat_minor": 5
}
